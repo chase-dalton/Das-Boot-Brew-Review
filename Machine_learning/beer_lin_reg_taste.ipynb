{
 "cells": [
  {
   "cell_type": "code",
   "execution_count": 54,
   "metadata": {},
   "outputs": [],
   "source": [
    "import pandas as pd\n",
    "import numpy as np\n",
    "import matplotlib.pyplot as plt\n",
    "from sklearn.model_selection import train_test_split\n",
    "from sklearn.linear_model import LinearRegression\n"
   ]
  },
  {
   "cell_type": "code",
   "execution_count": 17,
   "metadata": {},
   "outputs": [
    {
     "data": {
      "text/html": [
       "<div>\n",
       "<style scoped>\n",
       "    .dataframe tbody tr th:only-of-type {\n",
       "        vertical-align: middle;\n",
       "    }\n",
       "\n",
       "    .dataframe tbody tr th {\n",
       "        vertical-align: top;\n",
       "    }\n",
       "\n",
       "    .dataframe thead th {\n",
       "        text-align: right;\n",
       "    }\n",
       "</style>\n",
       "<table border=\"1\" class=\"dataframe\">\n",
       "  <thead>\n",
       "    <tr style=\"text-align: right;\">\n",
       "      <th></th>\n",
       "      <th>Unnamed: 0</th>\n",
       "      <th>brewery_name</th>\n",
       "      <th>beer_style</th>\n",
       "      <th>brewery_id</th>\n",
       "      <th>review_overall</th>\n",
       "      <th>review_aroma</th>\n",
       "      <th>review_appearance</th>\n",
       "      <th>review_palate</th>\n",
       "      <th>review_taste</th>\n",
       "      <th>beer_abv</th>\n",
       "      <th>beer_beerid</th>\n",
       "      <th>beer_name</th>\n",
       "      <th>review_count</th>\n",
       "    </tr>\n",
       "  </thead>\n",
       "  <tbody>\n",
       "    <tr>\n",
       "      <th>0</th>\n",
       "      <td>0</td>\n",
       "      <td>Närke Kulturbryggeri AB</td>\n",
       "      <td>Old Ale</td>\n",
       "      <td>10902.0</td>\n",
       "      <td>4.0</td>\n",
       "      <td>4.5</td>\n",
       "      <td>4.00</td>\n",
       "      <td>4.000000</td>\n",
       "      <td>4.5</td>\n",
       "      <td>8.2</td>\n",
       "      <td>57645</td>\n",
       "      <td>! (Old Ale)</td>\n",
       "      <td>1.0</td>\n",
       "    </tr>\n",
       "    <tr>\n",
       "      <th>1</th>\n",
       "      <td>1</td>\n",
       "      <td>The Covey Restaurant &amp; Brewery</td>\n",
       "      <td>Belgian Dark Ale</td>\n",
       "      <td>13338.0</td>\n",
       "      <td>4.0</td>\n",
       "      <td>4.0</td>\n",
       "      <td>4.00</td>\n",
       "      <td>4.000000</td>\n",
       "      <td>4.4</td>\n",
       "      <td>10.0</td>\n",
       "      <td>49236</td>\n",
       "      <td>\"100\"</td>\n",
       "      <td>5.0</td>\n",
       "    </tr>\n",
       "    <tr>\n",
       "      <th>2</th>\n",
       "      <td>2</td>\n",
       "      <td>Aviator Brewing Company</td>\n",
       "      <td>American IPA</td>\n",
       "      <td>18635.0</td>\n",
       "      <td>4.0</td>\n",
       "      <td>4.0</td>\n",
       "      <td>3.50</td>\n",
       "      <td>4.000000</td>\n",
       "      <td>4.0</td>\n",
       "      <td>6.6</td>\n",
       "      <td>50696</td>\n",
       "      <td>\"100\" Pale Ale</td>\n",
       "      <td>1.0</td>\n",
       "    </tr>\n",
       "    <tr>\n",
       "      <th>3</th>\n",
       "      <td>3</td>\n",
       "      <td>Flossmoor Station Restaurant &amp; Brewery</td>\n",
       "      <td>Belgian Strong Pale Ale</td>\n",
       "      <td>612.0</td>\n",
       "      <td>4.0</td>\n",
       "      <td>3.5</td>\n",
       "      <td>4.25</td>\n",
       "      <td>4.750000</td>\n",
       "      <td>4.5</td>\n",
       "      <td>9.0</td>\n",
       "      <td>44353</td>\n",
       "      <td>\"12\"  Belgian Golden Strong Ale</td>\n",
       "      <td>2.0</td>\n",
       "    </tr>\n",
       "    <tr>\n",
       "      <th>4</th>\n",
       "      <td>4</td>\n",
       "      <td>Baltika-Baku</td>\n",
       "      <td>Dortmunder / Export Lager</td>\n",
       "      <td>13640.0</td>\n",
       "      <td>3.0</td>\n",
       "      <td>3.0</td>\n",
       "      <td>3.00</td>\n",
       "      <td>3.166667</td>\n",
       "      <td>3.0</td>\n",
       "      <td>4.8</td>\n",
       "      <td>30080</td>\n",
       "      <td>\"33\" Export</td>\n",
       "      <td>3.0</td>\n",
       "    </tr>\n",
       "  </tbody>\n",
       "</table>\n",
       "</div>"
      ],
      "text/plain": [
       "   Unnamed: 0                            brewery_name  \\\n",
       "0           0                 Närke Kulturbryggeri AB   \n",
       "1           1          The Covey Restaurant & Brewery   \n",
       "2           2                 Aviator Brewing Company   \n",
       "3           3  Flossmoor Station Restaurant & Brewery   \n",
       "4           4                            Baltika-Baku   \n",
       "\n",
       "                  beer_style  brewery_id  review_overall  review_aroma  \\\n",
       "0                    Old Ale     10902.0             4.0           4.5   \n",
       "1           Belgian Dark Ale     13338.0             4.0           4.0   \n",
       "2               American IPA     18635.0             4.0           4.0   \n",
       "3    Belgian Strong Pale Ale       612.0             4.0           3.5   \n",
       "4  Dortmunder / Export Lager     13640.0             3.0           3.0   \n",
       "\n",
       "   review_appearance  review_palate  review_taste  beer_abv  beer_beerid  \\\n",
       "0               4.00       4.000000           4.5       8.2        57645   \n",
       "1               4.00       4.000000           4.4      10.0        49236   \n",
       "2               3.50       4.000000           4.0       6.6        50696   \n",
       "3               4.25       4.750000           4.5       9.0        44353   \n",
       "4               3.00       3.166667           3.0       4.8        30080   \n",
       "\n",
       "                         beer_name  review_count  \n",
       "0                      ! (Old Ale)           1.0  \n",
       "1                            \"100\"           5.0  \n",
       "2                   \"100\" Pale Ale           1.0  \n",
       "3  \"12\"  Belgian Golden Strong Ale           2.0  \n",
       "4                      \"33\" Export           3.0  "
      ]
     },
     "execution_count": 17,
     "metadata": {},
     "output_type": "execute_result"
    }
   ],
   "source": [
    "#import clean beer reviews\n",
    "br_df = pd.read_csv(\"../Data/Clean_data/beer_reviews_clean.csv\")\n",
    "br_df.head()"
   ]
  },
  {
   "cell_type": "code",
   "execution_count": 18,
   "metadata": {},
   "outputs": [
    {
     "data": {
      "text/plain": [
       "Unnamed: 0             int64\n",
       "brewery_name          object\n",
       "beer_style            object\n",
       "brewery_id           float64\n",
       "review_overall       float64\n",
       "review_aroma         float64\n",
       "review_appearance    float64\n",
       "review_palate        float64\n",
       "review_taste         float64\n",
       "beer_abv             float64\n",
       "beer_beerid            int64\n",
       "beer_name             object\n",
       "review_count         float64\n",
       "dtype: object"
      ]
     },
     "execution_count": 18,
     "metadata": {},
     "output_type": "execute_result"
    }
   ],
   "source": [
    "br_df.dtypes"
   ]
  },
  {
   "cell_type": "code",
   "execution_count": 20,
   "metadata": {},
   "outputs": [
    {
     "data": {
      "text/html": [
       "<div>\n",
       "<style scoped>\n",
       "    .dataframe tbody tr th:only-of-type {\n",
       "        vertical-align: middle;\n",
       "    }\n",
       "\n",
       "    .dataframe tbody tr th {\n",
       "        vertical-align: top;\n",
       "    }\n",
       "\n",
       "    .dataframe thead th {\n",
       "        text-align: right;\n",
       "    }\n",
       "</style>\n",
       "<table border=\"1\" class=\"dataframe\">\n",
       "  <thead>\n",
       "    <tr style=\"text-align: right;\">\n",
       "      <th></th>\n",
       "      <th>Unnamed: 0</th>\n",
       "      <th>brewery_name</th>\n",
       "      <th>beer_style</th>\n",
       "      <th>brewery_id</th>\n",
       "      <th>review_overall</th>\n",
       "      <th>review_aroma</th>\n",
       "      <th>review_appearance</th>\n",
       "      <th>review_palate</th>\n",
       "      <th>review_taste</th>\n",
       "      <th>beer_abv</th>\n",
       "      <th>beer_beerid</th>\n",
       "      <th>beer_name</th>\n",
       "      <th>review_count</th>\n",
       "    </tr>\n",
       "  </thead>\n",
       "  <tbody>\n",
       "    <tr>\n",
       "      <th>0</th>\n",
       "      <td>0</td>\n",
       "      <td>Närke Kulturbryggeri AB</td>\n",
       "      <td>Old Ale</td>\n",
       "      <td>10902</td>\n",
       "      <td>4.000000</td>\n",
       "      <td>4.5</td>\n",
       "      <td>4.00</td>\n",
       "      <td>4.000000</td>\n",
       "      <td>4.5</td>\n",
       "      <td>8.2</td>\n",
       "      <td>57645</td>\n",
       "      <td>! (Old Ale)</td>\n",
       "      <td>1.0</td>\n",
       "    </tr>\n",
       "    <tr>\n",
       "      <th>1</th>\n",
       "      <td>1</td>\n",
       "      <td>The Covey Restaurant &amp; Brewery</td>\n",
       "      <td>Belgian Dark Ale</td>\n",
       "      <td>13338</td>\n",
       "      <td>4.000000</td>\n",
       "      <td>4.0</td>\n",
       "      <td>4.00</td>\n",
       "      <td>4.000000</td>\n",
       "      <td>4.4</td>\n",
       "      <td>10.0</td>\n",
       "      <td>49236</td>\n",
       "      <td>\"100\"</td>\n",
       "      <td>5.0</td>\n",
       "    </tr>\n",
       "    <tr>\n",
       "      <th>2</th>\n",
       "      <td>2</td>\n",
       "      <td>Aviator Brewing Company</td>\n",
       "      <td>American IPA</td>\n",
       "      <td>18635</td>\n",
       "      <td>4.000000</td>\n",
       "      <td>4.0</td>\n",
       "      <td>3.50</td>\n",
       "      <td>4.000000</td>\n",
       "      <td>4.0</td>\n",
       "      <td>6.6</td>\n",
       "      <td>50696</td>\n",
       "      <td>\"100\" Pale Ale</td>\n",
       "      <td>1.0</td>\n",
       "    </tr>\n",
       "    <tr>\n",
       "      <th>3</th>\n",
       "      <td>3</td>\n",
       "      <td>Flossmoor Station Restaurant &amp; Brewery</td>\n",
       "      <td>Belgian Strong Pale Ale</td>\n",
       "      <td>612</td>\n",
       "      <td>4.000000</td>\n",
       "      <td>3.5</td>\n",
       "      <td>4.25</td>\n",
       "      <td>4.750000</td>\n",
       "      <td>4.5</td>\n",
       "      <td>9.0</td>\n",
       "      <td>44353</td>\n",
       "      <td>\"12\"  Belgian Golden Strong Ale</td>\n",
       "      <td>2.0</td>\n",
       "    </tr>\n",
       "    <tr>\n",
       "      <th>4</th>\n",
       "      <td>4</td>\n",
       "      <td>Baltika-Baku</td>\n",
       "      <td>Dortmunder / Export Lager</td>\n",
       "      <td>13640</td>\n",
       "      <td>3.000000</td>\n",
       "      <td>3.0</td>\n",
       "      <td>3.00</td>\n",
       "      <td>3.166667</td>\n",
       "      <td>3.0</td>\n",
       "      <td>4.8</td>\n",
       "      <td>30080</td>\n",
       "      <td>\"33\" Export</td>\n",
       "      <td>3.0</td>\n",
       "    </tr>\n",
       "    <tr>\n",
       "      <th>...</th>\n",
       "      <td>...</td>\n",
       "      <td>...</td>\n",
       "      <td>...</td>\n",
       "      <td>...</td>\n",
       "      <td>...</td>\n",
       "      <td>...</td>\n",
       "      <td>...</td>\n",
       "      <td>...</td>\n",
       "      <td>...</td>\n",
       "      <td>...</td>\n",
       "      <td>...</td>\n",
       "      <td>...</td>\n",
       "      <td>...</td>\n",
       "    </tr>\n",
       "    <tr>\n",
       "      <th>48760</th>\n",
       "      <td>48827</td>\n",
       "      <td>Minipivovar Žamberk</td>\n",
       "      <td>Russian Imperial Stout</td>\n",
       "      <td>18230</td>\n",
       "      <td>3.750000</td>\n",
       "      <td>4.5</td>\n",
       "      <td>4.50</td>\n",
       "      <td>4.250000</td>\n",
       "      <td>4.0</td>\n",
       "      <td>5.5</td>\n",
       "      <td>45214</td>\n",
       "      <td>Žamberecký Kanec Imperial Stout</td>\n",
       "      <td>2.0</td>\n",
       "    </tr>\n",
       "    <tr>\n",
       "      <th>48761</th>\n",
       "      <td>48828</td>\n",
       "      <td>Three Floyds Brewing Co. &amp; Brewpub</td>\n",
       "      <td>American IPA</td>\n",
       "      <td>26</td>\n",
       "      <td>4.166667</td>\n",
       "      <td>4.0</td>\n",
       "      <td>4.00</td>\n",
       "      <td>3.500000</td>\n",
       "      <td>3.5</td>\n",
       "      <td>5.0</td>\n",
       "      <td>49427</td>\n",
       "      <td>Ω-naught (Omeganaught)</td>\n",
       "      <td>3.0</td>\n",
       "    </tr>\n",
       "    <tr>\n",
       "      <th>48762</th>\n",
       "      <td>48829</td>\n",
       "      <td>The Bobcat Café &amp; Brewery</td>\n",
       "      <td>American IPA</td>\n",
       "      <td>7302</td>\n",
       "      <td>2.500000</td>\n",
       "      <td>2.0</td>\n",
       "      <td>4.00</td>\n",
       "      <td>3.500000</td>\n",
       "      <td>2.5</td>\n",
       "      <td>6.9</td>\n",
       "      <td>71197</td>\n",
       "      <td>“Chewy” Double IPA</td>\n",
       "      <td>1.0</td>\n",
       "    </tr>\n",
       "    <tr>\n",
       "      <th>48763</th>\n",
       "      <td>48830</td>\n",
       "      <td>Kamakura Beer Brewing Company</td>\n",
       "      <td>English Bitter</td>\n",
       "      <td>4973</td>\n",
       "      <td>4.000000</td>\n",
       "      <td>3.5</td>\n",
       "      <td>3.00</td>\n",
       "      <td>3.500000</td>\n",
       "      <td>3.5</td>\n",
       "      <td>5.5</td>\n",
       "      <td>70370</td>\n",
       "      <td>横須賀ビアサケ (Yokosuka Biasake)</td>\n",
       "      <td>1.0</td>\n",
       "    </tr>\n",
       "    <tr>\n",
       "      <th>48764</th>\n",
       "      <td>48831</td>\n",
       "      <td>Kamakura Beer Brewing Company</td>\n",
       "      <td>English Bitter</td>\n",
       "      <td>4973</td>\n",
       "      <td>4.000000</td>\n",
       "      <td>3.0</td>\n",
       "      <td>3.00</td>\n",
       "      <td>3.500000</td>\n",
       "      <td>4.0</td>\n",
       "      <td>5.5</td>\n",
       "      <td>70327</td>\n",
       "      <td>葉山ビール (Hayama Beer)</td>\n",
       "      <td>1.0</td>\n",
       "    </tr>\n",
       "  </tbody>\n",
       "</table>\n",
       "<p>48765 rows × 13 columns</p>\n",
       "</div>"
      ],
      "text/plain": [
       "       Unnamed: 0                            brewery_name  \\\n",
       "0               0                 Närke Kulturbryggeri AB   \n",
       "1               1          The Covey Restaurant & Brewery   \n",
       "2               2                 Aviator Brewing Company   \n",
       "3               3  Flossmoor Station Restaurant & Brewery   \n",
       "4               4                            Baltika-Baku   \n",
       "...           ...                                     ...   \n",
       "48760       48827                    Minipivovar Žamberk   \n",
       "48761       48828      Three Floyds Brewing Co. & Brewpub   \n",
       "48762       48829               The Bobcat Café & Brewery   \n",
       "48763       48830           Kamakura Beer Brewing Company   \n",
       "48764       48831           Kamakura Beer Brewing Company   \n",
       "\n",
       "                      beer_style  brewery_id  review_overall  review_aroma  \\\n",
       "0                        Old Ale       10902        4.000000           4.5   \n",
       "1               Belgian Dark Ale       13338        4.000000           4.0   \n",
       "2                   American IPA       18635        4.000000           4.0   \n",
       "3        Belgian Strong Pale Ale         612        4.000000           3.5   \n",
       "4      Dortmunder / Export Lager       13640        3.000000           3.0   \n",
       "...                          ...         ...             ...           ...   \n",
       "48760     Russian Imperial Stout       18230        3.750000           4.5   \n",
       "48761               American IPA          26        4.166667           4.0   \n",
       "48762               American IPA        7302        2.500000           2.0   \n",
       "48763             English Bitter        4973        4.000000           3.5   \n",
       "48764             English Bitter        4973        4.000000           3.0   \n",
       "\n",
       "       review_appearance  review_palate  review_taste  beer_abv  beer_beerid  \\\n",
       "0                   4.00       4.000000           4.5       8.2        57645   \n",
       "1                   4.00       4.000000           4.4      10.0        49236   \n",
       "2                   3.50       4.000000           4.0       6.6        50696   \n",
       "3                   4.25       4.750000           4.5       9.0        44353   \n",
       "4                   3.00       3.166667           3.0       4.8        30080   \n",
       "...                  ...            ...           ...       ...          ...   \n",
       "48760               4.50       4.250000           4.0       5.5        45214   \n",
       "48761               4.00       3.500000           3.5       5.0        49427   \n",
       "48762               4.00       3.500000           2.5       6.9        71197   \n",
       "48763               3.00       3.500000           3.5       5.5        70370   \n",
       "48764               3.00       3.500000           4.0       5.5        70327   \n",
       "\n",
       "                              beer_name  review_count  \n",
       "0                           ! (Old Ale)           1.0  \n",
       "1                                 \"100\"           5.0  \n",
       "2                        \"100\" Pale Ale           1.0  \n",
       "3       \"12\"  Belgian Golden Strong Ale           2.0  \n",
       "4                           \"33\" Export           3.0  \n",
       "...                                 ...           ...  \n",
       "48760  Žamberecký Kanec Imperial Stout           2.0  \n",
       "48761            Ω-naught (Omeganaught)           3.0  \n",
       "48762                “Chewy” Double IPA           1.0  \n",
       "48763        横須賀ビアサケ (Yokosuka Biasake)           1.0  \n",
       "48764               葉山ビール (Hayama Beer)           1.0  \n",
       "\n",
       "[48765 rows x 13 columns]"
      ]
     },
     "execution_count": 20,
     "metadata": {},
     "output_type": "execute_result"
    }
   ],
   "source": [
    "#changing brewery_id to whole #\n",
    "br_df['brewery_id'] = br_df['brewery_id'].astype(int)\n",
    "br_df"
   ]
  },
  {
   "cell_type": "code",
   "execution_count": 21,
   "metadata": {},
   "outputs": [
    {
     "data": {
      "text/plain": [
       "Unnamed: 0             int64\n",
       "brewery_name          object\n",
       "beer_style            object\n",
       "brewery_id             int64\n",
       "review_overall       float64\n",
       "review_aroma         float64\n",
       "review_appearance    float64\n",
       "review_palate        float64\n",
       "review_taste         float64\n",
       "beer_abv             float64\n",
       "beer_beerid            int64\n",
       "beer_name             object\n",
       "review_count         float64\n",
       "dtype: object"
      ]
     },
     "execution_count": 21,
     "metadata": {},
     "output_type": "execute_result"
    }
   ],
   "source": [
    "#see if it is indeed an int\n",
    "br_df.dtypes"
   ]
  },
  {
   "cell_type": "code",
   "execution_count": 22,
   "metadata": {},
   "outputs": [
    {
     "data": {
      "text/html": [
       "<div>\n",
       "<style scoped>\n",
       "    .dataframe tbody tr th:only-of-type {\n",
       "        vertical-align: middle;\n",
       "    }\n",
       "\n",
       "    .dataframe tbody tr th {\n",
       "        vertical-align: top;\n",
       "    }\n",
       "\n",
       "    .dataframe thead th {\n",
       "        text-align: right;\n",
       "    }\n",
       "</style>\n",
       "<table border=\"1\" class=\"dataframe\">\n",
       "  <thead>\n",
       "    <tr style=\"text-align: right;\">\n",
       "      <th></th>\n",
       "      <th>brewery_name</th>\n",
       "      <th>beer_style</th>\n",
       "      <th>brewery_id</th>\n",
       "      <th>review_overall</th>\n",
       "      <th>review_aroma</th>\n",
       "      <th>review_appearance</th>\n",
       "      <th>review_palate</th>\n",
       "      <th>review_taste</th>\n",
       "      <th>beer_abv</th>\n",
       "      <th>beer_beerid</th>\n",
       "      <th>beer_name</th>\n",
       "      <th>review_count</th>\n",
       "    </tr>\n",
       "  </thead>\n",
       "  <tbody>\n",
       "    <tr>\n",
       "      <th>0</th>\n",
       "      <td>Närke Kulturbryggeri AB</td>\n",
       "      <td>Old Ale</td>\n",
       "      <td>10902</td>\n",
       "      <td>4.0</td>\n",
       "      <td>4.5</td>\n",
       "      <td>4.00</td>\n",
       "      <td>4.000000</td>\n",
       "      <td>4.5</td>\n",
       "      <td>8.2</td>\n",
       "      <td>57645</td>\n",
       "      <td>! (Old Ale)</td>\n",
       "      <td>1.0</td>\n",
       "    </tr>\n",
       "    <tr>\n",
       "      <th>1</th>\n",
       "      <td>The Covey Restaurant &amp; Brewery</td>\n",
       "      <td>Belgian Dark Ale</td>\n",
       "      <td>13338</td>\n",
       "      <td>4.0</td>\n",
       "      <td>4.0</td>\n",
       "      <td>4.00</td>\n",
       "      <td>4.000000</td>\n",
       "      <td>4.4</td>\n",
       "      <td>10.0</td>\n",
       "      <td>49236</td>\n",
       "      <td>\"100\"</td>\n",
       "      <td>5.0</td>\n",
       "    </tr>\n",
       "    <tr>\n",
       "      <th>2</th>\n",
       "      <td>Aviator Brewing Company</td>\n",
       "      <td>American IPA</td>\n",
       "      <td>18635</td>\n",
       "      <td>4.0</td>\n",
       "      <td>4.0</td>\n",
       "      <td>3.50</td>\n",
       "      <td>4.000000</td>\n",
       "      <td>4.0</td>\n",
       "      <td>6.6</td>\n",
       "      <td>50696</td>\n",
       "      <td>\"100\" Pale Ale</td>\n",
       "      <td>1.0</td>\n",
       "    </tr>\n",
       "    <tr>\n",
       "      <th>3</th>\n",
       "      <td>Flossmoor Station Restaurant &amp; Brewery</td>\n",
       "      <td>Belgian Strong Pale Ale</td>\n",
       "      <td>612</td>\n",
       "      <td>4.0</td>\n",
       "      <td>3.5</td>\n",
       "      <td>4.25</td>\n",
       "      <td>4.750000</td>\n",
       "      <td>4.5</td>\n",
       "      <td>9.0</td>\n",
       "      <td>44353</td>\n",
       "      <td>\"12\"  Belgian Golden Strong Ale</td>\n",
       "      <td>2.0</td>\n",
       "    </tr>\n",
       "    <tr>\n",
       "      <th>4</th>\n",
       "      <td>Baltika-Baku</td>\n",
       "      <td>Dortmunder / Export Lager</td>\n",
       "      <td>13640</td>\n",
       "      <td>3.0</td>\n",
       "      <td>3.0</td>\n",
       "      <td>3.00</td>\n",
       "      <td>3.166667</td>\n",
       "      <td>3.0</td>\n",
       "      <td>4.8</td>\n",
       "      <td>30080</td>\n",
       "      <td>\"33\" Export</td>\n",
       "      <td>3.0</td>\n",
       "    </tr>\n",
       "  </tbody>\n",
       "</table>\n",
       "</div>"
      ],
      "text/plain": [
       "                             brewery_name                 beer_style  \\\n",
       "0                 Närke Kulturbryggeri AB                    Old Ale   \n",
       "1          The Covey Restaurant & Brewery           Belgian Dark Ale   \n",
       "2                 Aviator Brewing Company               American IPA   \n",
       "3  Flossmoor Station Restaurant & Brewery    Belgian Strong Pale Ale   \n",
       "4                            Baltika-Baku  Dortmunder / Export Lager   \n",
       "\n",
       "   brewery_id  review_overall  review_aroma  review_appearance  review_palate  \\\n",
       "0       10902             4.0           4.5               4.00       4.000000   \n",
       "1       13338             4.0           4.0               4.00       4.000000   \n",
       "2       18635             4.0           4.0               3.50       4.000000   \n",
       "3         612             4.0           3.5               4.25       4.750000   \n",
       "4       13640             3.0           3.0               3.00       3.166667   \n",
       "\n",
       "   review_taste  beer_abv  beer_beerid                        beer_name  \\\n",
       "0           4.5       8.2        57645                      ! (Old Ale)   \n",
       "1           4.4      10.0        49236                            \"100\"   \n",
       "2           4.0       6.6        50696                   \"100\" Pale Ale   \n",
       "3           4.5       9.0        44353  \"12\"  Belgian Golden Strong Ale   \n",
       "4           3.0       4.8        30080                      \"33\" Export   \n",
       "\n",
       "   review_count  \n",
       "0           1.0  \n",
       "1           5.0  \n",
       "2           1.0  \n",
       "3           2.0  \n",
       "4           3.0  "
      ]
     },
     "execution_count": 22,
     "metadata": {},
     "output_type": "execute_result"
    }
   ],
   "source": [
    "#remove Unnamed:0\n",
    "br_df = br_df.drop('Unnamed: 0',1)\n",
    "br_df.head()"
   ]
  },
  {
   "cell_type": "code",
   "execution_count": 33,
   "metadata": {},
   "outputs": [
    {
     "data": {
      "text/html": [
       "<div>\n",
       "<style scoped>\n",
       "    .dataframe tbody tr th:only-of-type {\n",
       "        vertical-align: middle;\n",
       "    }\n",
       "\n",
       "    .dataframe tbody tr th {\n",
       "        vertical-align: top;\n",
       "    }\n",
       "\n",
       "    .dataframe thead th {\n",
       "        text-align: right;\n",
       "    }\n",
       "</style>\n",
       "<table border=\"1\" class=\"dataframe\">\n",
       "  <thead>\n",
       "    <tr style=\"text-align: right;\">\n",
       "      <th></th>\n",
       "      <th>review_aroma</th>\n",
       "      <th>review_appearance</th>\n",
       "      <th>review_palate</th>\n",
       "      <th>review_taste</th>\n",
       "      <th>beer_abv</th>\n",
       "    </tr>\n",
       "  </thead>\n",
       "  <tbody>\n",
       "    <tr>\n",
       "      <th>0</th>\n",
       "      <td>4.5</td>\n",
       "      <td>4.00</td>\n",
       "      <td>4.000000</td>\n",
       "      <td>4.5</td>\n",
       "      <td>8.2</td>\n",
       "    </tr>\n",
       "    <tr>\n",
       "      <th>1</th>\n",
       "      <td>4.0</td>\n",
       "      <td>4.00</td>\n",
       "      <td>4.000000</td>\n",
       "      <td>4.4</td>\n",
       "      <td>10.0</td>\n",
       "    </tr>\n",
       "    <tr>\n",
       "      <th>2</th>\n",
       "      <td>4.0</td>\n",
       "      <td>3.50</td>\n",
       "      <td>4.000000</td>\n",
       "      <td>4.0</td>\n",
       "      <td>6.6</td>\n",
       "    </tr>\n",
       "    <tr>\n",
       "      <th>3</th>\n",
       "      <td>3.5</td>\n",
       "      <td>4.25</td>\n",
       "      <td>4.750000</td>\n",
       "      <td>4.5</td>\n",
       "      <td>9.0</td>\n",
       "    </tr>\n",
       "    <tr>\n",
       "      <th>4</th>\n",
       "      <td>3.0</td>\n",
       "      <td>3.00</td>\n",
       "      <td>3.166667</td>\n",
       "      <td>3.0</td>\n",
       "      <td>4.8</td>\n",
       "    </tr>\n",
       "    <tr>\n",
       "      <th>...</th>\n",
       "      <td>...</td>\n",
       "      <td>...</td>\n",
       "      <td>...</td>\n",
       "      <td>...</td>\n",
       "      <td>...</td>\n",
       "    </tr>\n",
       "    <tr>\n",
       "      <th>48760</th>\n",
       "      <td>4.5</td>\n",
       "      <td>4.50</td>\n",
       "      <td>4.250000</td>\n",
       "      <td>4.0</td>\n",
       "      <td>5.5</td>\n",
       "    </tr>\n",
       "    <tr>\n",
       "      <th>48761</th>\n",
       "      <td>4.0</td>\n",
       "      <td>4.00</td>\n",
       "      <td>3.500000</td>\n",
       "      <td>3.5</td>\n",
       "      <td>5.0</td>\n",
       "    </tr>\n",
       "    <tr>\n",
       "      <th>48762</th>\n",
       "      <td>2.0</td>\n",
       "      <td>4.00</td>\n",
       "      <td>3.500000</td>\n",
       "      <td>2.5</td>\n",
       "      <td>6.9</td>\n",
       "    </tr>\n",
       "    <tr>\n",
       "      <th>48763</th>\n",
       "      <td>3.5</td>\n",
       "      <td>3.00</td>\n",
       "      <td>3.500000</td>\n",
       "      <td>3.5</td>\n",
       "      <td>5.5</td>\n",
       "    </tr>\n",
       "    <tr>\n",
       "      <th>48764</th>\n",
       "      <td>3.0</td>\n",
       "      <td>3.00</td>\n",
       "      <td>3.500000</td>\n",
       "      <td>4.0</td>\n",
       "      <td>5.5</td>\n",
       "    </tr>\n",
       "  </tbody>\n",
       "</table>\n",
       "<p>48765 rows × 5 columns</p>\n",
       "</div>"
      ],
      "text/plain": [
       "       review_aroma  review_appearance  review_palate  review_taste  beer_abv\n",
       "0               4.5               4.00       4.000000           4.5       8.2\n",
       "1               4.0               4.00       4.000000           4.4      10.0\n",
       "2               4.0               3.50       4.000000           4.0       6.6\n",
       "3               3.5               4.25       4.750000           4.5       9.0\n",
       "4               3.0               3.00       3.166667           3.0       4.8\n",
       "...             ...                ...            ...           ...       ...\n",
       "48760           4.5               4.50       4.250000           4.0       5.5\n",
       "48761           4.0               4.00       3.500000           3.5       5.0\n",
       "48762           2.0               4.00       3.500000           2.5       6.9\n",
       "48763           3.5               3.00       3.500000           3.5       5.5\n",
       "48764           3.0               3.00       3.500000           4.0       5.5\n",
       "\n",
       "[48765 rows x 5 columns]"
      ]
     },
     "execution_count": 33,
     "metadata": {},
     "output_type": "execute_result"
    }
   ],
   "source": [
    "#get rid of unneccesary columns\n",
    "br_df_clean = br_df.drop(columns=[\"brewery_name\",\"beer_style\",\"brewery_id\",\"review_overall\",\"beer_beerid\",\"beer_name\",\"review_count\"])\n",
    "br_df_clean"
   ]
  },
  {
   "cell_type": "code",
   "execution_count": 36,
   "metadata": {},
   "outputs": [],
   "source": [
    "# Seperate features from target\n",
    "y = br_df_clean[\"review_taste\"]\n",
    "X = br_df_clean.drop(columns = [\"review_taste\"])"
   ]
  },
  {
   "cell_type": "code",
   "execution_count": 39,
   "metadata": {},
   "outputs": [
    {
     "data": {
      "text/html": [
       "<div>\n",
       "<style scoped>\n",
       "    .dataframe tbody tr th:only-of-type {\n",
       "        vertical-align: middle;\n",
       "    }\n",
       "\n",
       "    .dataframe tbody tr th {\n",
       "        vertical-align: top;\n",
       "    }\n",
       "\n",
       "    .dataframe thead th {\n",
       "        text-align: right;\n",
       "    }\n",
       "</style>\n",
       "<table border=\"1\" class=\"dataframe\">\n",
       "  <thead>\n",
       "    <tr style=\"text-align: right;\">\n",
       "      <th></th>\n",
       "      <th>review_aroma</th>\n",
       "      <th>review_appearance</th>\n",
       "      <th>review_palate</th>\n",
       "      <th>beer_abv</th>\n",
       "    </tr>\n",
       "  </thead>\n",
       "  <tbody>\n",
       "    <tr>\n",
       "      <th>0</th>\n",
       "      <td>4.5</td>\n",
       "      <td>4.00</td>\n",
       "      <td>4.000000</td>\n",
       "      <td>8.2</td>\n",
       "    </tr>\n",
       "    <tr>\n",
       "      <th>1</th>\n",
       "      <td>4.0</td>\n",
       "      <td>4.00</td>\n",
       "      <td>4.000000</td>\n",
       "      <td>10.0</td>\n",
       "    </tr>\n",
       "    <tr>\n",
       "      <th>2</th>\n",
       "      <td>4.0</td>\n",
       "      <td>3.50</td>\n",
       "      <td>4.000000</td>\n",
       "      <td>6.6</td>\n",
       "    </tr>\n",
       "    <tr>\n",
       "      <th>3</th>\n",
       "      <td>3.5</td>\n",
       "      <td>4.25</td>\n",
       "      <td>4.750000</td>\n",
       "      <td>9.0</td>\n",
       "    </tr>\n",
       "    <tr>\n",
       "      <th>4</th>\n",
       "      <td>3.0</td>\n",
       "      <td>3.00</td>\n",
       "      <td>3.166667</td>\n",
       "      <td>4.8</td>\n",
       "    </tr>\n",
       "    <tr>\n",
       "      <th>...</th>\n",
       "      <td>...</td>\n",
       "      <td>...</td>\n",
       "      <td>...</td>\n",
       "      <td>...</td>\n",
       "    </tr>\n",
       "    <tr>\n",
       "      <th>48760</th>\n",
       "      <td>4.5</td>\n",
       "      <td>4.50</td>\n",
       "      <td>4.250000</td>\n",
       "      <td>5.5</td>\n",
       "    </tr>\n",
       "    <tr>\n",
       "      <th>48761</th>\n",
       "      <td>4.0</td>\n",
       "      <td>4.00</td>\n",
       "      <td>3.500000</td>\n",
       "      <td>5.0</td>\n",
       "    </tr>\n",
       "    <tr>\n",
       "      <th>48762</th>\n",
       "      <td>2.0</td>\n",
       "      <td>4.00</td>\n",
       "      <td>3.500000</td>\n",
       "      <td>6.9</td>\n",
       "    </tr>\n",
       "    <tr>\n",
       "      <th>48763</th>\n",
       "      <td>3.5</td>\n",
       "      <td>3.00</td>\n",
       "      <td>3.500000</td>\n",
       "      <td>5.5</td>\n",
       "    </tr>\n",
       "    <tr>\n",
       "      <th>48764</th>\n",
       "      <td>3.0</td>\n",
       "      <td>3.00</td>\n",
       "      <td>3.500000</td>\n",
       "      <td>5.5</td>\n",
       "    </tr>\n",
       "  </tbody>\n",
       "</table>\n",
       "<p>48765 rows × 4 columns</p>\n",
       "</div>"
      ],
      "text/plain": [
       "       review_aroma  review_appearance  review_palate  beer_abv\n",
       "0               4.5               4.00       4.000000       8.2\n",
       "1               4.0               4.00       4.000000      10.0\n",
       "2               4.0               3.50       4.000000       6.6\n",
       "3               3.5               4.25       4.750000       9.0\n",
       "4               3.0               3.00       3.166667       4.8\n",
       "...             ...                ...            ...       ...\n",
       "48760           4.5               4.50       4.250000       5.5\n",
       "48761           4.0               4.00       3.500000       5.0\n",
       "48762           2.0               4.00       3.500000       6.9\n",
       "48763           3.5               3.00       3.500000       5.5\n",
       "48764           3.0               3.00       3.500000       5.5\n",
       "\n",
       "[48765 rows x 4 columns]"
      ]
     },
     "execution_count": 39,
     "metadata": {},
     "output_type": "execute_result"
    }
   ],
   "source": [
    "X"
   ]
  },
  {
   "cell_type": "code",
   "execution_count": 42,
   "metadata": {},
   "outputs": [],
   "source": [
    "# Split into training and testing\n",
    "X_train, X_test, y_train, y_test = train_test_split(X,y,random_state = 42)"
   ]
  },
  {
   "cell_type": "code",
   "execution_count": 43,
   "metadata": {},
   "outputs": [],
   "source": [
    "# Create LR model\n",
    "model = LinearRegression()\n",
    "model.fit(X_train,y_train)\n",
    "y_pred = model.predict(X_test)"
   ]
  },
  {
   "cell_type": "code",
   "execution_count": 44,
   "metadata": {},
   "outputs": [
    {
     "name": "stdout",
     "output_type": "stream",
     "text": [
      "[0.46018049 0.05413963 0.5172752  0.00104627]\n",
      "-0.09080174815432596\n"
     ]
    }
   ],
   "source": [
    "print(model.coef_)\n",
    "print(model.intercept_)"
   ]
  },
  {
   "cell_type": "code",
   "execution_count": 45,
   "metadata": {},
   "outputs": [
    {
     "name": "stdout",
     "output_type": "stream",
     "text": [
      "R2 score is: 0.7725911564049508\n",
      "Mean Squared Error is: 0.08674929876961597\n"
     ]
    }
   ],
   "source": [
    "# importing r2_score module\n",
    "from sklearn.metrics import r2_score\n",
    "from sklearn.metrics import mean_squared_error\n",
    "\n",
    "# predicting the accuracy score\n",
    "score=r2_score(y_test,y_pred)\n",
    "print(f\"R2 score is: {score}\")\n",
    "print(f\"Mean Squared Error is: {mean_squared_error(y_test,y_pred)}\")"
   ]
  },
  {
   "cell_type": "code",
   "execution_count": 82,
   "metadata": {},
   "outputs": [
    {
     "data": {
      "text/html": [
       "<div>\n",
       "<style scoped>\n",
       "    .dataframe tbody tr th:only-of-type {\n",
       "        vertical-align: middle;\n",
       "    }\n",
       "\n",
       "    .dataframe tbody tr th {\n",
       "        vertical-align: top;\n",
       "    }\n",
       "\n",
       "    .dataframe thead th {\n",
       "        text-align: right;\n",
       "    }\n",
       "</style>\n",
       "<table border=\"1\" class=\"dataframe\">\n",
       "  <thead>\n",
       "    <tr style=\"text-align: right;\">\n",
       "      <th></th>\n",
       "      <th>review_taste</th>\n",
       "      <th>review_aroma</th>\n",
       "    </tr>\n",
       "  </thead>\n",
       "  <tbody>\n",
       "    <tr>\n",
       "      <th>0</th>\n",
       "      <td>4.5</td>\n",
       "      <td>4.5</td>\n",
       "    </tr>\n",
       "    <tr>\n",
       "      <th>1</th>\n",
       "      <td>4.4</td>\n",
       "      <td>4.0</td>\n",
       "    </tr>\n",
       "    <tr>\n",
       "      <th>2</th>\n",
       "      <td>4.0</td>\n",
       "      <td>4.0</td>\n",
       "    </tr>\n",
       "    <tr>\n",
       "      <th>3</th>\n",
       "      <td>4.5</td>\n",
       "      <td>3.5</td>\n",
       "    </tr>\n",
       "    <tr>\n",
       "      <th>4</th>\n",
       "      <td>3.0</td>\n",
       "      <td>3.0</td>\n",
       "    </tr>\n",
       "  </tbody>\n",
       "</table>\n",
       "</div>"
      ],
      "text/plain": [
       "   review_taste  review_aroma\n",
       "0           4.5           4.5\n",
       "1           4.4           4.0\n",
       "2           4.0           4.0\n",
       "3           4.5           3.5\n",
       "4           3.0           3.0"
      ]
     },
     "execution_count": 82,
     "metadata": {},
     "output_type": "execute_result"
    }
   ],
   "source": [
    "data = [br_df[\"review_taste\"], br_df[\"review_aroma\"]]\n",
    "headers = ['review_taste','review_aroma']\n",
    "taste_smell_df = pd.concat(data, axis=1, keys=headers)\n",
    "\n",
    "taste_smell_df.head()"
   ]
  },
  {
   "cell_type": "code",
   "execution_count": 83,
   "metadata": {},
   "outputs": [
    {
     "data": {
      "image/png": "[encoded data removed]",
      "text/plain": [
       "<Figure size 432x288 with 1 Axes>"
      ]
     },
     "metadata": {
      "needs_background": "light"
     },
     "output_type": "display_data"
    }
   ],
   "source": [
    "plt.scatter(taste_smell_df.review_taste, taste_smell_df.review_aroma)\n",
    "plt.xlabel('Taste')\n",
    "plt.ylabel('Aroma')\n",
    "plt.show()"
   ]
  },
  {
   "cell_type": "code",
   "execution_count": 84,
   "metadata": {},
   "outputs": [],
   "source": [
    "model = LinearRegression()"
   ]
  },
  {
   "cell_type": "code",
   "execution_count": 85,
   "metadata": {},
   "outputs": [],
   "source": [
    "X = taste_smell_df.review_taste.values.reshape(-1, 1)"
   ]
  },
  {
   "cell_type": "code",
   "execution_count": 86,
   "metadata": {},
   "outputs": [],
   "source": [
    "y = taste_smell_df['review_aroma']\n"
   ]
  },
  {
   "cell_type": "code",
   "execution_count": 87,
   "metadata": {},
   "outputs": [
    {
     "data": {
      "text/plain": [
       "LinearRegression()"
      ]
     },
     "execution_count": 87,
     "metadata": {},
     "output_type": "execute_result"
    }
   ],
   "source": [
    "model.fit(X, y)"
   ]
  },
  {
   "cell_type": "code",
   "execution_count": 88,
   "metadata": {},
   "outputs": [
    {
     "name": "stdout",
     "output_type": "stream",
     "text": [
      "(48765,)\n"
     ]
    }
   ],
   "source": [
    "y_pred = model.predict(X)\n",
    "print(y_pred.shape)"
   ]
  },
  {
   "cell_type": "code",
   "execution_count": 89,
   "metadata": {},
   "outputs": [
    {
     "data": {
      "image/png": "[encoded data removed]",
      "text/plain": [
       "<Figure size 432x288 with 1 Axes>"
      ]
     },
     "metadata": {
      "needs_background": "light"
     },
     "output_type": "display_data"
    }
   ],
   "source": [
    "#Linear Regression between taste and aroma\n",
    "plt.scatter(X, y)\n",
    "plt.plot(X, y_pred, color='red')\n",
    "plt.show()"
   ]
  },
  {
   "cell_type": "code",
   "execution_count": 90,
   "metadata": {},
   "outputs": [
    {
     "name": "stdout",
     "output_type": "stream",
     "text": [
      "[0.77134583]\n",
      "0.7810259469530489\n"
     ]
    }
   ],
   "source": [
    "print(model.coef_)\n",
    "print(model.intercept_)"
   ]
  },
  {
   "cell_type": "code",
   "execution_count": 91,
   "metadata": {},
   "outputs": [
    {
     "data": {
      "text/html": [
       "<div>\n",
       "<style scoped>\n",
       "    .dataframe tbody tr th:only-of-type {\n",
       "        vertical-align: middle;\n",
       "    }\n",
       "\n",
       "    .dataframe tbody tr th {\n",
       "        vertical-align: top;\n",
       "    }\n",
       "\n",
       "    .dataframe thead th {\n",
       "        text-align: right;\n",
       "    }\n",
       "</style>\n",
       "<table border=\"1\" class=\"dataframe\">\n",
       "  <thead>\n",
       "    <tr style=\"text-align: right;\">\n",
       "      <th></th>\n",
       "      <th>review_taste</th>\n",
       "      <th>beer_abv</th>\n",
       "    </tr>\n",
       "  </thead>\n",
       "  <tbody>\n",
       "    <tr>\n",
       "      <th>0</th>\n",
       "      <td>4.5</td>\n",
       "      <td>8.2</td>\n",
       "    </tr>\n",
       "    <tr>\n",
       "      <th>1</th>\n",
       "      <td>4.4</td>\n",
       "      <td>10.0</td>\n",
       "    </tr>\n",
       "    <tr>\n",
       "      <th>2</th>\n",
       "      <td>4.0</td>\n",
       "      <td>6.6</td>\n",
       "    </tr>\n",
       "    <tr>\n",
       "      <th>3</th>\n",
       "      <td>4.5</td>\n",
       "      <td>9.0</td>\n",
       "    </tr>\n",
       "    <tr>\n",
       "      <th>4</th>\n",
       "      <td>3.0</td>\n",
       "      <td>4.8</td>\n",
       "    </tr>\n",
       "  </tbody>\n",
       "</table>\n",
       "</div>"
      ],
      "text/plain": [
       "   review_taste  beer_abv\n",
       "0           4.5       8.2\n",
       "1           4.4      10.0\n",
       "2           4.0       6.6\n",
       "3           4.5       9.0\n",
       "4           3.0       4.8"
      ]
     },
     "execution_count": 91,
     "metadata": {},
     "output_type": "execute_result"
    }
   ],
   "source": [
    "abv_data = [br_df[\"review_taste\"], br_df[\"beer_abv\"]]\n",
    "headers = ['review_taste','beer_abv']\n",
    "taste_abv_df = pd.concat(abv_data, axis=1, keys=headers)\n",
    "\n",
    "taste_abv_df.head()"
   ]
  },
  {
   "cell_type": "code",
   "execution_count": 98,
   "metadata": {},
   "outputs": [
    {
     "data": {
      "text/plain": [
       "review_taste    float64\n",
       "beer_abv        float64\n",
       "dtype: object"
      ]
     },
     "execution_count": 98,
     "metadata": {},
     "output_type": "execute_result"
    }
   ],
   "source": [
    "taste_abv_df.dtypes"
   ]
  },
  {
   "cell_type": "code",
   "execution_count": 92,
   "metadata": {},
   "outputs": [
    {
     "data": {
      "image/png": "[encoded data removed]",
      "text/plain": [
       "<Figure size 432x288 with 1 Axes>"
      ]
     },
     "metadata": {
      "needs_background": "light"
     },
     "output_type": "display_data"
    }
   ],
   "source": [
    "plt.scatter(taste_abv_df.review_taste, taste_abv_df.beer_abv)\n",
    "plt.xlabel('Taste')\n",
    "plt.ylabel('ABV')\n",
    "plt.show()"
   ]
  },
  {
   "cell_type": "code",
   "execution_count": 93,
   "metadata": {},
   "outputs": [],
   "source": [
    "abv_model = LinearRegression()"
   ]
  },
  {
   "cell_type": "code",
   "execution_count": 94,
   "metadata": {},
   "outputs": [
    {
     "name": "stdout",
     "output_type": "stream",
     "text": [
      "(48765,)\n"
     ]
    }
   ],
   "source": [
    "X = taste_abv_df.review_taste.values.reshape(-1, 1)\n",
    "y = taste_abv_df['beer_abv']\n",
    "abv_model.fit(X, y)\n",
    "y_pred = abv_model.predict(X)\n",
    "print(y_pred.shape)"
   ]
  },
  {
   "cell_type": "code",
   "execution_count": 95,
   "metadata": {},
   "outputs": [
    {
     "data": {
      "image/png": "[encoded data removed]",
      "text/plain": [
       "<Figure size 432x288 with 1 Axes>"
      ]
     },
     "metadata": {
      "needs_background": "light"
     },
     "output_type": "display_data"
    }
   ],
   "source": [
    "#Linear Regression between taste and ABV\n",
    "plt.scatter(X, y)\n",
    "plt.plot(X, y_pred, color='red')\n",
    "plt.show()"
   ]
  }
 ],
 "metadata": {
  "interpreter": {
   "hash": "cfa644f2f7fe7dda3a26fd55f8d234fd9f96a14f509bf487ba09eaa865e647e1"
  },
  "kernelspec": {
   "display_name": "Python 3.7.7 64-bit ('PythonData': conda)",
   "name": "python3"
  },
  "language_info": {
   "codemirror_mode": {
    "name": "ipython",
    "version": 3
   },
   "file_extension": ".py",
   "mimetype": "text/x-python",
   "name": "python",
   "nbconvert_exporter": "python",
   "pygments_lexer": "ipython3",
   "version": "3.7.7"
  },
  "orig_nbformat": 4
 },
 "nbformat": 4,
 "nbformat_minor": 2
}
