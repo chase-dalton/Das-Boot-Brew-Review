{
 "cells": [
  {
   "cell_type": "code",
   "execution_count": 1,
   "metadata": {},
   "outputs": [],
   "source": [
    "# import libraries\n",
    "import pickle\n",
    "\n",
    "model_fn = 'final_ML_model.pkl'\n",
    "scaler_fn = 'beer_scaler.pkl'\n",
    "\n",
    "# user_input headers og | fg | ibu | color | beer_abv | brewmethod_All Grain | brewmethod_BIAB | brewmethod_Partial Mash | brewmethod_extract\n",
    "# Only one of the \"brewmethod\" fields will be a 1, the rest will be 0.\n",
    "user_input = [[1.062, 1.014, 66.61, 8.06, 8.0, 1.0 ,0.0 ,0.0 ,0.0]]"
   ]
  },
  {
   "cell_type": "code",
   "execution_count": 2,
   "metadata": {},
   "outputs": [],
   "source": [
    "# load the model\n",
    "loaded_model = pickle.load(open(model_fn, 'rb'))"
   ]
  },
  {
   "cell_type": "code",
   "execution_count": 3,
   "metadata": {},
   "outputs": [],
   "source": [
    "# load Scaler\n",
    "loaded_scaler = pickle.load(open(scaler_fn, 'rb'))"
   ]
  },
  {
   "cell_type": "code",
   "execution_count": 4,
   "metadata": {},
   "outputs": [],
   "source": [
    "# Scale User input\n",
    "scaler = loaded_scaler\n",
    "X_test_scaled = scaler.transform(user_input)"
   ]
  },
  {
   "cell_type": "code",
   "execution_count": 5,
   "metadata": {},
   "outputs": [],
   "source": [
    "# make prediction on user input\n",
    "predict = loaded_model.predict(X_test_scaled)"
   ]
  },
  {
   "cell_type": "code",
   "execution_count": 6,
   "metadata": {},
   "outputs": [
    {
     "name": "stdout",
     "output_type": "stream",
     "text": [
      "[1 0 0]\n"
     ]
    }
   ],
   "source": [
    "print(predict)"
   ]
  }
 ],
 "metadata": {
  "interpreter": {
   "hash": "a147d3d822f483f5e4d49a90b0a003506f46067b98182a07c803e174c43ad675"
  },
  "kernelspec": {
   "display_name": "Python 3.7.11 64-bit ('mlenv': conda)",
   "name": "python3"
  },
  "language_info": {
   "codemirror_mode": {
    "name": "ipython",
    "version": 3
   },
   "file_extension": ".py",
   "mimetype": "text/x-python",
   "name": "python",
   "nbconvert_exporter": "python",
   "pygments_lexer": "ipython3",
   "version": "3.7.11"
  },
  "orig_nbformat": 4
 },
 "nbformat": 4,
 "nbformat_minor": 2
}
