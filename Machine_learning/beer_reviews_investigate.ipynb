{
 "cells": [
  {
   "cell_type": "markdown",
   "metadata": {},
   "source": [
    "## “Beer is proof that God loves us and wants us to be happy.” - Ben Franklin"
   ]
  },
  {
   "cell_type": "code",
   "execution_count": 1,
   "metadata": {},
   "outputs": [],
   "source": [
    "# Import dependencies\n",
    "import numpy as numpy\n",
    "import pandas as pd\n",
    "\n"
   ]
  },
  {
   "cell_type": "code",
   "execution_count": 5,
   "metadata": {},
   "outputs": [
    {
     "data": {
      "text/html": [
       "<div>\n",
       "<style scoped>\n",
       "    .dataframe tbody tr th:only-of-type {\n",
       "        vertical-align: middle;\n",
       "    }\n",
       "\n",
       "    .dataframe tbody tr th {\n",
       "        vertical-align: top;\n",
       "    }\n",
       "\n",
       "    .dataframe thead th {\n",
       "        text-align: right;\n",
       "    }\n",
       "</style>\n",
       "<table border=\"1\" class=\"dataframe\">\n",
       "  <thead>\n",
       "    <tr style=\"text-align: right;\">\n",
       "      <th></th>\n",
       "      <th>brewery_id</th>\n",
       "      <th>brewery_name</th>\n",
       "      <th>review_time</th>\n",
       "      <th>review_overall</th>\n",
       "      <th>review_aroma</th>\n",
       "      <th>review_appearance</th>\n",
       "      <th>review_profilename</th>\n",
       "      <th>beer_style</th>\n",
       "      <th>review_palate</th>\n",
       "      <th>review_taste</th>\n",
       "      <th>beer_name</th>\n",
       "      <th>beer_abv</th>\n",
       "      <th>beer_beerid</th>\n",
       "    </tr>\n",
       "  </thead>\n",
       "  <tbody>\n",
       "    <tr>\n",
       "      <th>0</th>\n",
       "      <td>10325</td>\n",
       "      <td>Vecchio Birraio</td>\n",
       "      <td>1234817823</td>\n",
       "      <td>1.5</td>\n",
       "      <td>2.0</td>\n",
       "      <td>2.5</td>\n",
       "      <td>stcules</td>\n",
       "      <td>Hefeweizen</td>\n",
       "      <td>1.5</td>\n",
       "      <td>1.5</td>\n",
       "      <td>Sausa Weizen</td>\n",
       "      <td>5.0</td>\n",
       "      <td>47986</td>\n",
       "    </tr>\n",
       "    <tr>\n",
       "      <th>1</th>\n",
       "      <td>10325</td>\n",
       "      <td>Vecchio Birraio</td>\n",
       "      <td>1235915097</td>\n",
       "      <td>3.0</td>\n",
       "      <td>2.5</td>\n",
       "      <td>3.0</td>\n",
       "      <td>stcules</td>\n",
       "      <td>English Strong Ale</td>\n",
       "      <td>3.0</td>\n",
       "      <td>3.0</td>\n",
       "      <td>Red Moon</td>\n",
       "      <td>6.2</td>\n",
       "      <td>48213</td>\n",
       "    </tr>\n",
       "    <tr>\n",
       "      <th>2</th>\n",
       "      <td>10325</td>\n",
       "      <td>Vecchio Birraio</td>\n",
       "      <td>1235916604</td>\n",
       "      <td>3.0</td>\n",
       "      <td>2.5</td>\n",
       "      <td>3.0</td>\n",
       "      <td>stcules</td>\n",
       "      <td>Foreign / Export Stout</td>\n",
       "      <td>3.0</td>\n",
       "      <td>3.0</td>\n",
       "      <td>Black Horse Black Beer</td>\n",
       "      <td>6.5</td>\n",
       "      <td>48215</td>\n",
       "    </tr>\n",
       "    <tr>\n",
       "      <th>3</th>\n",
       "      <td>10325</td>\n",
       "      <td>Vecchio Birraio</td>\n",
       "      <td>1234725145</td>\n",
       "      <td>3.0</td>\n",
       "      <td>3.0</td>\n",
       "      <td>3.5</td>\n",
       "      <td>stcules</td>\n",
       "      <td>German Pilsener</td>\n",
       "      <td>2.5</td>\n",
       "      <td>3.0</td>\n",
       "      <td>Sausa Pils</td>\n",
       "      <td>5.0</td>\n",
       "      <td>47969</td>\n",
       "    </tr>\n",
       "    <tr>\n",
       "      <th>4</th>\n",
       "      <td>1075</td>\n",
       "      <td>Caldera Brewing Company</td>\n",
       "      <td>1293735206</td>\n",
       "      <td>4.0</td>\n",
       "      <td>4.5</td>\n",
       "      <td>4.0</td>\n",
       "      <td>johnmichaelsen</td>\n",
       "      <td>American Double / Imperial IPA</td>\n",
       "      <td>4.0</td>\n",
       "      <td>4.5</td>\n",
       "      <td>Cauldron DIPA</td>\n",
       "      <td>7.7</td>\n",
       "      <td>64883</td>\n",
       "    </tr>\n",
       "  </tbody>\n",
       "</table>\n",
       "</div>"
      ],
      "text/plain": [
       "   brewery_id             brewery_name  review_time  review_overall  \\\n",
       "0       10325          Vecchio Birraio   1234817823             1.5   \n",
       "1       10325          Vecchio Birraio   1235915097             3.0   \n",
       "2       10325          Vecchio Birraio   1235916604             3.0   \n",
       "3       10325          Vecchio Birraio   1234725145             3.0   \n",
       "4        1075  Caldera Brewing Company   1293735206             4.0   \n",
       "\n",
       "   review_aroma  review_appearance review_profilename  \\\n",
       "0           2.0                2.5            stcules   \n",
       "1           2.5                3.0            stcules   \n",
       "2           2.5                3.0            stcules   \n",
       "3           3.0                3.5            stcules   \n",
       "4           4.5                4.0     johnmichaelsen   \n",
       "\n",
       "                       beer_style  review_palate  review_taste  \\\n",
       "0                      Hefeweizen            1.5           1.5   \n",
       "1              English Strong Ale            3.0           3.0   \n",
       "2          Foreign / Export Stout            3.0           3.0   \n",
       "3                 German Pilsener            2.5           3.0   \n",
       "4  American Double / Imperial IPA            4.0           4.5   \n",
       "\n",
       "                beer_name  beer_abv  beer_beerid  \n",
       "0            Sausa Weizen       5.0        47986  \n",
       "1                Red Moon       6.2        48213  \n",
       "2  Black Horse Black Beer       6.5        48215  \n",
       "3              Sausa Pils       5.0        47969  \n",
       "4           Cauldron DIPA       7.7        64883  "
      ]
     },
     "execution_count": 5,
     "metadata": {},
     "output_type": "execute_result"
    }
   ],
   "source": [
    "# read in the dataset\n",
    "beer_df = pd.read_csv(\"../../Final_Project/beer_reviews.csv\")\n",
    "beer_df.head()"
   ]
  },
  {
   "cell_type": "code",
   "execution_count": 7,
   "metadata": {},
   "outputs": [
    {
     "data": {
      "text/plain": [
       "brewery_id              int64\n",
       "brewery_name           object\n",
       "review_time             int64\n",
       "review_overall        float64\n",
       "review_aroma          float64\n",
       "review_appearance     float64\n",
       "review_profilename     object\n",
       "beer_style             object\n",
       "review_palate         float64\n",
       "review_taste          float64\n",
       "beer_name              object\n",
       "beer_abv              float64\n",
       "beer_beerid             int64\n",
       "dtype: object"
      ]
     },
     "execution_count": 7,
     "metadata": {},
     "output_type": "execute_result"
    }
   ],
   "source": [
    "beer_df.dtypes"
   ]
  },
  {
   "cell_type": "code",
   "execution_count": 8,
   "metadata": {},
   "outputs": [
    {
     "data": {
      "text/plain": [
       "1586614"
      ]
     },
     "execution_count": 8,
     "metadata": {},
     "output_type": "execute_result"
    }
   ],
   "source": [
    "# Count the rows\n",
    "len(beer_df)"
   ]
  },
  {
   "cell_type": "code",
   "execution_count": 12,
   "metadata": {},
   "outputs": [
    {
     "name": "stdout",
     "output_type": "stream",
     "text": [
      "<class 'pandas.core.frame.DataFrame'>\n",
      "RangeIndex: 1586614 entries, 0 to 1586613\n",
      "Data columns (total 13 columns):\n",
      " #   Column              Non-Null Count    Dtype         \n",
      "---  ------              --------------    -----         \n",
      " 0   brewery_id          1586614 non-null  int64         \n",
      " 1   brewery_name        1586599 non-null  object        \n",
      " 2   review_time         1586614 non-null  datetime64[ns]\n",
      " 3   review_overall      1586614 non-null  float64       \n",
      " 4   review_aroma        1586614 non-null  float64       \n",
      " 5   review_appearance   1586614 non-null  float64       \n",
      " 6   review_profilename  1586266 non-null  object        \n",
      " 7   beer_style          1586614 non-null  object        \n",
      " 8   review_palate       1586614 non-null  float64       \n",
      " 9   review_taste        1586614 non-null  float64       \n",
      " 10  beer_name           1586614 non-null  object        \n",
      " 11  beer_abv            1518829 non-null  float64       \n",
      " 12  beer_beerid         1586614 non-null  int64         \n",
      "dtypes: datetime64[ns](1), float64(6), int64(2), object(4)\n",
      "memory usage: 157.4+ MB\n"
     ]
    }
   ],
   "source": [
    "# Change the review_time column to datetime\n",
    "beer_df[\"review_time\"] = pd.to_datetime(beer_df[\"review_time\"], unit = 's' )\n",
    "beer_df.info()"
   ]
  },
  {
   "cell_type": "code",
   "execution_count": 13,
   "metadata": {},
   "outputs": [
    {
     "data": {
      "text/plain": [
       "brewery_id                0\n",
       "brewery_name             15\n",
       "review_time               0\n",
       "review_overall            0\n",
       "review_aroma              0\n",
       "review_appearance         0\n",
       "review_profilename      348\n",
       "beer_style                0\n",
       "review_palate             0\n",
       "review_taste              0\n",
       "beer_name                 0\n",
       "beer_abv              67785\n",
       "beer_beerid               0\n",
       "dtype: int64"
      ]
     },
     "execution_count": 13,
     "metadata": {},
     "output_type": "execute_result"
    }
   ],
   "source": [
    "# Count null values\n",
    "beer_df.isnull().sum()"
   ]
  },
  {
   "cell_type": "code",
   "execution_count": 16,
   "metadata": {},
   "outputs": [
    {
     "name": "stdout",
     "output_type": "stream",
     "text": [
      "brewery_id            0.000000\n",
      "brewery_name          0.000945\n",
      "review_time           0.000000\n",
      "review_overall        0.000000\n",
      "review_aroma          0.000000\n",
      "review_appearance     0.000000\n",
      "review_profilename    0.021934\n",
      "beer_style            0.000000\n",
      "review_palate         0.000000\n",
      "review_taste          0.000000\n",
      "beer_name             0.000000\n",
      "beer_abv              4.272306\n",
      "beer_beerid           0.000000\n",
      "dtype: float64\n"
     ]
    }
   ],
   "source": [
    "# How much of the dataset is null?\n",
    "percent_null = beer_df.isnull().sum()/len(beer_df) *100\n",
    "print(percent_null)"
   ]
  },
  {
   "cell_type": "code",
   "execution_count": 17,
   "metadata": {},
   "outputs": [
    {
     "name": "stdout",
     "output_type": "stream",
     "text": [
      "<class 'pandas.core.frame.DataFrame'>\n",
      "Int64Index: 1518478 entries, 0 to 1586613\n",
      "Data columns (total 13 columns):\n",
      " #   Column              Non-Null Count    Dtype         \n",
      "---  ------              --------------    -----         \n",
      " 0   brewery_id          1518478 non-null  int64         \n",
      " 1   brewery_name        1518478 non-null  object        \n",
      " 2   review_time         1518478 non-null  datetime64[ns]\n",
      " 3   review_overall      1518478 non-null  float64       \n",
      " 4   review_aroma        1518478 non-null  float64       \n",
      " 5   review_appearance   1518478 non-null  float64       \n",
      " 6   review_profilename  1518478 non-null  object        \n",
      " 7   beer_style          1518478 non-null  object        \n",
      " 8   review_palate       1518478 non-null  float64       \n",
      " 9   review_taste        1518478 non-null  float64       \n",
      " 10  beer_name           1518478 non-null  object        \n",
      " 11  beer_abv            1518478 non-null  float64       \n",
      " 12  beer_beerid         1518478 non-null  int64         \n",
      "dtypes: datetime64[ns](1), float64(6), int64(2), object(4)\n",
      "memory usage: 162.2+ MB\n"
     ]
    }
   ],
   "source": [
    "# At worst, we're only losing less than 4.5% of the dataset by dropping rows with null values\n",
    "beer_df = beer_df.dropna()\n",
    "beer_df.info()"
   ]
  },
  {
   "cell_type": "code",
   "execution_count": 23,
   "metadata": {},
   "outputs": [
    {
     "data": {
      "text/plain": [
       "4.0    559790\n",
       "4.5    314303\n",
       "3.5    286901\n",
       "3.0    155840\n",
       "5.0     88997\n",
       "2.5     54660\n",
       "2.0     35737\n",
       "1.5     12032\n",
       "1.0     10211\n",
       "0.0         7\n",
       "Name: review_overall, dtype: int64"
      ]
     },
     "execution_count": 23,
     "metadata": {},
     "output_type": "execute_result"
    }
   ],
   "source": [
    "# Check for highest and lowest ratings\n",
    "beer_df[\"review_overall\"].value_counts()"
   ]
  },
  {
   "cell_type": "code",
   "execution_count": 24,
   "metadata": {},
   "outputs": [],
   "source": [
    "# A very small percentage (7 out of 1.5 million) of beers have a 0 rating, so these can be dropped.\n",
    "beer_df = beer_df[beer_df.review_overall != 0]"
   ]
  },
  {
   "cell_type": "code",
   "execution_count": 25,
   "metadata": {},
   "outputs": [
    {
     "name": "stdout",
     "output_type": "stream",
     "text": [
      "<class 'pandas.core.frame.DataFrame'>\n",
      "Int64Index: 1518471 entries, 0 to 1586613\n",
      "Data columns (total 13 columns):\n",
      " #   Column              Non-Null Count    Dtype         \n",
      "---  ------              --------------    -----         \n",
      " 0   brewery_id          1518471 non-null  int64         \n",
      " 1   brewery_name        1518471 non-null  object        \n",
      " 2   review_time         1518471 non-null  datetime64[ns]\n",
      " 3   review_overall      1518471 non-null  float64       \n",
      " 4   review_aroma        1518471 non-null  float64       \n",
      " 5   review_appearance   1518471 non-null  float64       \n",
      " 6   review_profilename  1518471 non-null  object        \n",
      " 7   beer_style          1518471 non-null  object        \n",
      " 8   review_palate       1518471 non-null  float64       \n",
      " 9   review_taste        1518471 non-null  float64       \n",
      " 10  beer_name           1518471 non-null  object        \n",
      " 11  beer_abv            1518471 non-null  float64       \n",
      " 12  beer_beerid         1518471 non-null  int64         \n",
      "dtypes: datetime64[ns](1), float64(6), int64(2), object(4)\n",
      "memory usage: 162.2+ MB\n"
     ]
    }
   ],
   "source": [
    "beer_df.info()"
   ]
  },
  {
   "cell_type": "code",
   "execution_count": 30,
   "metadata": {},
   "outputs": [
    {
     "data": {
      "text/plain": [
       "0"
      ]
     },
     "execution_count": 30,
     "metadata": {},
     "output_type": "execute_result"
    }
   ],
   "source": [
    "# Check for and count duplicate rows (there are none)\n",
    "len(beer_df)-len(beer_df.drop_duplicates())"
   ]
  },
  {
   "cell_type": "code",
   "execution_count": 65,
   "metadata": {},
   "outputs": [
    {
     "data": {
      "text/plain": [
       "14441"
      ]
     },
     "execution_count": 65,
     "metadata": {},
     "output_type": "execute_result"
    }
   ],
   "source": [
    "# Check to see if a beer has been reviewed more than once by the same reviewer\n",
    "len(beer_df) - len(beer_df.drop_duplicates(subset = [\"review_profilename\", \"beer_beerid\"]))"
   ]
  },
  {
   "cell_type": "code",
   "execution_count": 74,
   "metadata": {},
   "outputs": [],
   "source": [
    "# Drop duplicate rows where a reviewer reviewed a beer more than once\n",
    "# We want to keep the highest score of the beer\n",
    "beer_df = beer_df.sort_values(\"review_overall\", ascending = False)\n",
    "beer_df = beer_df.drop_duplicates(subset = [\"review_profilename\", \"beer_beerid\"])"
   ]
  },
  {
   "cell_type": "code",
   "execution_count": 75,
   "metadata": {},
   "outputs": [
    {
     "data": {
      "text/plain": [
       "brewery_id               5230\n",
       "brewery_name             5155\n",
       "review_time           1496144\n",
       "review_overall              9\n",
       "review_aroma                9\n",
       "review_appearance           9\n",
       "review_profilename      32908\n",
       "beer_style                104\n",
       "review_palate               9\n",
       "review_taste                9\n",
       "beer_name               44075\n",
       "beer_abv                  530\n",
       "beer_beerid             49000\n",
       "dtype: int64"
      ]
     },
     "execution_count": 75,
     "metadata": {},
     "output_type": "execute_result"
    }
   ],
   "source": [
    "# Count of different number of beers and beer styles reviewed\n",
    "beer_df.nunique(axis =0)"
   ]
  },
  {
   "cell_type": "code",
   "execution_count": 36,
   "metadata": {},
   "outputs": [
    {
     "data": {
      "text/html": [
       "<div>\n",
       "<style scoped>\n",
       "    .dataframe tbody tr th:only-of-type {\n",
       "        vertical-align: middle;\n",
       "    }\n",
       "\n",
       "    .dataframe tbody tr th {\n",
       "        vertical-align: top;\n",
       "    }\n",
       "\n",
       "    .dataframe thead th {\n",
       "        text-align: right;\n",
       "    }\n",
       "</style>\n",
       "<table border=\"1\" class=\"dataframe\">\n",
       "  <thead>\n",
       "    <tr style=\"text-align: right;\">\n",
       "      <th></th>\n",
       "      <th>brewery_id</th>\n",
       "      <th>brewery_name</th>\n",
       "      <th>review_time</th>\n",
       "      <th>review_overall</th>\n",
       "      <th>review_aroma</th>\n",
       "      <th>review_appearance</th>\n",
       "      <th>review_profilename</th>\n",
       "      <th>beer_style</th>\n",
       "      <th>review_palate</th>\n",
       "      <th>review_taste</th>\n",
       "      <th>beer_name</th>\n",
       "      <th>beer_abv</th>\n",
       "      <th>beer_beerid</th>\n",
       "    </tr>\n",
       "  </thead>\n",
       "  <tbody>\n",
       "    <tr>\n",
       "      <th>0</th>\n",
       "      <td>10325</td>\n",
       "      <td>Vecchio Birraio</td>\n",
       "      <td>2009-02-16 20:57:03</td>\n",
       "      <td>1.5</td>\n",
       "      <td>2.0</td>\n",
       "      <td>2.5</td>\n",
       "      <td>stcules</td>\n",
       "      <td>Hefeweizen</td>\n",
       "      <td>1.5</td>\n",
       "      <td>1.5</td>\n",
       "      <td>Sausa Weizen</td>\n",
       "      <td>5.0</td>\n",
       "      <td>47986</td>\n",
       "    </tr>\n",
       "    <tr>\n",
       "      <th>1</th>\n",
       "      <td>10325</td>\n",
       "      <td>Vecchio Birraio</td>\n",
       "      <td>2009-03-01 13:44:57</td>\n",
       "      <td>3.0</td>\n",
       "      <td>2.5</td>\n",
       "      <td>3.0</td>\n",
       "      <td>stcules</td>\n",
       "      <td>English Strong Ale</td>\n",
       "      <td>3.0</td>\n",
       "      <td>3.0</td>\n",
       "      <td>Red Moon</td>\n",
       "      <td>6.2</td>\n",
       "      <td>48213</td>\n",
       "    </tr>\n",
       "    <tr>\n",
       "      <th>2</th>\n",
       "      <td>10325</td>\n",
       "      <td>Vecchio Birraio</td>\n",
       "      <td>2009-03-01 14:10:04</td>\n",
       "      <td>3.0</td>\n",
       "      <td>2.5</td>\n",
       "      <td>3.0</td>\n",
       "      <td>stcules</td>\n",
       "      <td>Foreign / Export Stout</td>\n",
       "      <td>3.0</td>\n",
       "      <td>3.0</td>\n",
       "      <td>Black Horse Black Beer</td>\n",
       "      <td>6.5</td>\n",
       "      <td>48215</td>\n",
       "    </tr>\n",
       "    <tr>\n",
       "      <th>3</th>\n",
       "      <td>10325</td>\n",
       "      <td>Vecchio Birraio</td>\n",
       "      <td>2009-02-15 19:12:25</td>\n",
       "      <td>3.0</td>\n",
       "      <td>3.0</td>\n",
       "      <td>3.5</td>\n",
       "      <td>stcules</td>\n",
       "      <td>German Pilsener</td>\n",
       "      <td>2.5</td>\n",
       "      <td>3.0</td>\n",
       "      <td>Sausa Pils</td>\n",
       "      <td>5.0</td>\n",
       "      <td>47969</td>\n",
       "    </tr>\n",
       "    <tr>\n",
       "      <th>4</th>\n",
       "      <td>1075</td>\n",
       "      <td>Caldera Brewing Company</td>\n",
       "      <td>2010-12-30 18:53:26</td>\n",
       "      <td>4.0</td>\n",
       "      <td>4.5</td>\n",
       "      <td>4.0</td>\n",
       "      <td>johnmichaelsen</td>\n",
       "      <td>American Double / Imperial IPA</td>\n",
       "      <td>4.0</td>\n",
       "      <td>4.5</td>\n",
       "      <td>Cauldron DIPA</td>\n",
       "      <td>7.7</td>\n",
       "      <td>64883</td>\n",
       "    </tr>\n",
       "  </tbody>\n",
       "</table>\n",
       "</div>"
      ],
      "text/plain": [
       "   brewery_id             brewery_name         review_time  review_overall  \\\n",
       "0       10325          Vecchio Birraio 2009-02-16 20:57:03             1.5   \n",
       "1       10325          Vecchio Birraio 2009-03-01 13:44:57             3.0   \n",
       "2       10325          Vecchio Birraio 2009-03-01 14:10:04             3.0   \n",
       "3       10325          Vecchio Birraio 2009-02-15 19:12:25             3.0   \n",
       "4        1075  Caldera Brewing Company 2010-12-30 18:53:26             4.0   \n",
       "\n",
       "   review_aroma  review_appearance review_profilename  \\\n",
       "0           2.0                2.5            stcules   \n",
       "1           2.5                3.0            stcules   \n",
       "2           2.5                3.0            stcules   \n",
       "3           3.0                3.5            stcules   \n",
       "4           4.5                4.0     johnmichaelsen   \n",
       "\n",
       "                       beer_style  review_palate  review_taste  \\\n",
       "0                      Hefeweizen            1.5           1.5   \n",
       "1              English Strong Ale            3.0           3.0   \n",
       "2          Foreign / Export Stout            3.0           3.0   \n",
       "3                 German Pilsener            2.5           3.0   \n",
       "4  American Double / Imperial IPA            4.0           4.5   \n",
       "\n",
       "                beer_name  beer_abv  beer_beerid  \n",
       "0            Sausa Weizen       5.0        47986  \n",
       "1                Red Moon       6.2        48213  \n",
       "2  Black Horse Black Beer       6.5        48215  \n",
       "3              Sausa Pils       5.0        47969  \n",
       "4           Cauldron DIPA       7.7        64883  "
      ]
     },
     "execution_count": 36,
     "metadata": {},
     "output_type": "execute_result"
    }
   ],
   "source": [
    "beer_df.head()"
   ]
  },
  {
   "cell_type": "code",
   "execution_count": 78,
   "metadata": {},
   "outputs": [
    {
     "data": {
      "text/plain": [
       "beer_style\n",
       "American Wild Ale                   4.098530\n",
       "Gueuze                              4.086610\n",
       "Quadrupel (Quad)                    4.072829\n",
       "Lambic - Unblended                  4.061412\n",
       "American Double / Imperial Stout    4.028225\n",
       "Russian Imperial Stout              4.022666\n",
       "Weizenbock                          4.010392\n",
       "American Double / Imperial IPA      3.997435\n",
       "Flanders Red Ale                    3.994852\n",
       "Keller Bier / Zwickel Bier          3.988179\n",
       "Name: review_overall, dtype: float64"
      ]
     },
     "execution_count": 78,
     "metadata": {},
     "output_type": "execute_result"
    }
   ],
   "source": [
    "# What are the top 10 rated beer styles?\n",
    "beer_df.groupby(\"beer_style\").mean()[\"review_overall\"].sort_values(ascending = False).head(10)"
   ]
  },
  {
   "cell_type": "code",
   "execution_count": null,
   "metadata": {},
   "outputs": [],
   "source": []
  }
 ],
 "metadata": {
  "interpreter": {
   "hash": "6bbbf46ac35b3752c751a75b1a32432224dacc405cb55dd51db559f1ccadb36c"
  },
  "kernelspec": {
   "display_name": "Python 3.8.10 64-bit ('PyData': conda)",
   "name": "python3"
  },
  "language_info": {
   "codemirror_mode": {
    "name": "ipython",
    "version": 3
   },
   "file_extension": ".py",
   "mimetype": "text/x-python",
   "name": "python",
   "nbconvert_exporter": "python",
   "pygments_lexer": "ipython3",
   "version": "3.8.10"
  },
  "orig_nbformat": 4
 },
 "nbformat": 4,
 "nbformat_minor": 2
}
