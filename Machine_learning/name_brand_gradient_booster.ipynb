{
 "cells": [
  {
   "cell_type": "code",
   "execution_count": 3,
   "metadata": {},
   "outputs": [],
   "source": [
    "# import dependencies\n",
    "import pandas as pd\n",
    "from sklearn.metrics import accuracy_score\n",
    "from sklearn.metrics import confusion_matrix\n",
    "from sklearn.preprocessing import StandardScaler\n",
    "from sklearn.model_selection import train_test_split\n",
    "from sklearn.preprocessing import StandardScaler"
   ]
  },
  {
   "cell_type": "code",
   "execution_count": 4,
   "metadata": {},
   "outputs": [
    {
     "data": {
      "text/html": [
       "<div>\n",
       "<style scoped>\n",
       "    .dataframe tbody tr th:only-of-type {\n",
       "        vertical-align: middle;\n",
       "    }\n",
       "\n",
       "    .dataframe tbody tr th {\n",
       "        vertical-align: top;\n",
       "    }\n",
       "\n",
       "    .dataframe thead th {\n",
       "        text-align: right;\n",
       "    }\n",
       "</style>\n",
       "<table border=\"1\" class=\"dataframe\">\n",
       "  <thead>\n",
       "    <tr style=\"text-align: right;\">\n",
       "      <th></th>\n",
       "      <th>size_l</th>\n",
       "      <th>og</th>\n",
       "      <th>fg</th>\n",
       "      <th>abv</th>\n",
       "      <th>ibu</th>\n",
       "      <th>color</th>\n",
       "      <th>boilsize</th>\n",
       "      <th>boiltime</th>\n",
       "      <th>boilgravity</th>\n",
       "      <th>efficiency</th>\n",
       "      <th>mashthickness</th>\n",
       "      <th>pitchrate</th>\n",
       "      <th>primarytemp</th>\n",
       "      <th>review_taste</th>\n",
       "      <th>beer_abv</th>\n",
       "      <th>sugarscale_Plato</th>\n",
       "      <th>sugarscale_Specific Gravity</th>\n",
       "      <th>brewmethod_All Grain</th>\n",
       "      <th>brewmethod_BIAB</th>\n",
       "      <th>brewmethod_Partial Mash</th>\n",
       "      <th>brewmethod_extract</th>\n",
       "    </tr>\n",
       "  </thead>\n",
       "  <tbody>\n",
       "    <tr>\n",
       "      <th>0</th>\n",
       "      <td>18.93</td>\n",
       "      <td>1.082</td>\n",
       "      <td>1.013</td>\n",
       "      <td>9.10</td>\n",
       "      <td>0.00</td>\n",
       "      <td>4.10</td>\n",
       "      <td>21.58</td>\n",
       "      <td>60.0</td>\n",
       "      <td>0.000</td>\n",
       "      <td>72.0</td>\n",
       "      <td>0.0</td>\n",
       "      <td>0.00</td>\n",
       "      <td>0.00</td>\n",
       "      <td>4.103825</td>\n",
       "      <td>7.6</td>\n",
       "      <td>0.0</td>\n",
       "      <td>1.0</td>\n",
       "      <td>1.0</td>\n",
       "      <td>0.0</td>\n",
       "      <td>0.0</td>\n",
       "      <td>0.0</td>\n",
       "    </tr>\n",
       "    <tr>\n",
       "      <th>1</th>\n",
       "      <td>7.57</td>\n",
       "      <td>1.076</td>\n",
       "      <td>1.014</td>\n",
       "      <td>8.10</td>\n",
       "      <td>33.51</td>\n",
       "      <td>3.68</td>\n",
       "      <td>8.71</td>\n",
       "      <td>60.0</td>\n",
       "      <td>1.066</td>\n",
       "      <td>75.0</td>\n",
       "      <td>0.0</td>\n",
       "      <td>0.00</td>\n",
       "      <td>0.00</td>\n",
       "      <td>4.103825</td>\n",
       "      <td>7.6</td>\n",
       "      <td>0.0</td>\n",
       "      <td>1.0</td>\n",
       "      <td>1.0</td>\n",
       "      <td>0.0</td>\n",
       "      <td>0.0</td>\n",
       "      <td>0.0</td>\n",
       "    </tr>\n",
       "    <tr>\n",
       "      <th>2</th>\n",
       "      <td>20.82</td>\n",
       "      <td>1.043</td>\n",
       "      <td>1.011</td>\n",
       "      <td>4.14</td>\n",
       "      <td>13.22</td>\n",
       "      <td>17.67</td>\n",
       "      <td>28.39</td>\n",
       "      <td>90.0</td>\n",
       "      <td>0.000</td>\n",
       "      <td>85.0</td>\n",
       "      <td>0.0</td>\n",
       "      <td>1.75</td>\n",
       "      <td>12.22</td>\n",
       "      <td>3.028652</td>\n",
       "      <td>4.4</td>\n",
       "      <td>0.0</td>\n",
       "      <td>1.0</td>\n",
       "      <td>1.0</td>\n",
       "      <td>0.0</td>\n",
       "      <td>0.0</td>\n",
       "      <td>0.0</td>\n",
       "    </tr>\n",
       "    <tr>\n",
       "      <th>3</th>\n",
       "      <td>22.71</td>\n",
       "      <td>1.069</td>\n",
       "      <td>1.017</td>\n",
       "      <td>6.75</td>\n",
       "      <td>58.76</td>\n",
       "      <td>40.00</td>\n",
       "      <td>29.34</td>\n",
       "      <td>90.0</td>\n",
       "      <td>1.053</td>\n",
       "      <td>70.0</td>\n",
       "      <td>0.0</td>\n",
       "      <td>0.00</td>\n",
       "      <td>0.00</td>\n",
       "      <td>4.265971</td>\n",
       "      <td>6.4</td>\n",
       "      <td>0.0</td>\n",
       "      <td>1.0</td>\n",
       "      <td>1.0</td>\n",
       "      <td>0.0</td>\n",
       "      <td>0.0</td>\n",
       "      <td>0.0</td>\n",
       "    </tr>\n",
       "    <tr>\n",
       "      <th>4</th>\n",
       "      <td>22.71</td>\n",
       "      <td>1.068</td>\n",
       "      <td>1.018</td>\n",
       "      <td>6.53</td>\n",
       "      <td>73.40</td>\n",
       "      <td>40.00</td>\n",
       "      <td>27.44</td>\n",
       "      <td>90.0</td>\n",
       "      <td>1.056</td>\n",
       "      <td>65.0</td>\n",
       "      <td>1.3</td>\n",
       "      <td>1.25</td>\n",
       "      <td>18.89</td>\n",
       "      <td>4.265971</td>\n",
       "      <td>6.4</td>\n",
       "      <td>0.0</td>\n",
       "      <td>1.0</td>\n",
       "      <td>1.0</td>\n",
       "      <td>0.0</td>\n",
       "      <td>0.0</td>\n",
       "      <td>0.0</td>\n",
       "    </tr>\n",
       "  </tbody>\n",
       "</table>\n",
       "</div>"
      ],
      "text/plain": [
       "   size_l     og     fg   abv    ibu  color  boilsize  boiltime  boilgravity  \\\n",
       "0   18.93  1.082  1.013  9.10   0.00   4.10     21.58      60.0        0.000   \n",
       "1    7.57  1.076  1.014  8.10  33.51   3.68      8.71      60.0        1.066   \n",
       "2   20.82  1.043  1.011  4.14  13.22  17.67     28.39      90.0        0.000   \n",
       "3   22.71  1.069  1.017  6.75  58.76  40.00     29.34      90.0        1.053   \n",
       "4   22.71  1.068  1.018  6.53  73.40  40.00     27.44      90.0        1.056   \n",
       "\n",
       "   efficiency  mashthickness  pitchrate  primarytemp  review_taste  beer_abv  \\\n",
       "0        72.0            0.0       0.00         0.00      4.103825       7.6   \n",
       "1        75.0            0.0       0.00         0.00      4.103825       7.6   \n",
       "2        85.0            0.0       1.75        12.22      3.028652       4.4   \n",
       "3        70.0            0.0       0.00         0.00      4.265971       6.4   \n",
       "4        65.0            1.3       1.25        18.89      4.265971       6.4   \n",
       "\n",
       "   sugarscale_Plato  sugarscale_Specific Gravity  brewmethod_All Grain  \\\n",
       "0               0.0                          1.0                   1.0   \n",
       "1               0.0                          1.0                   1.0   \n",
       "2               0.0                          1.0                   1.0   \n",
       "3               0.0                          1.0                   1.0   \n",
       "4               0.0                          1.0                   1.0   \n",
       "\n",
       "   brewmethod_BIAB  brewmethod_Partial Mash  brewmethod_extract  \n",
       "0              0.0                      0.0                 0.0  \n",
       "1              0.0                      0.0                 0.0  \n",
       "2              0.0                      0.0                 0.0  \n",
       "3              0.0                      0.0                 0.0  \n",
       "4              0.0                      0.0                 0.0  "
      ]
     },
     "execution_count": 4,
     "metadata": {},
     "output_type": "execute_result"
    }
   ],
   "source": [
    "merged_nb_df = pd.read_csv(\"merged_nb_df.csv\")\n",
    "pd.set_option('display.max_columns', None)\n",
    "merged_nb_df.head()"
   ]
  },
  {
   "cell_type": "code",
   "execution_count": 5,
   "metadata": {},
   "outputs": [
    {
     "data": {
      "text/plain": [
       "34.77543538038497"
      ]
     },
     "execution_count": 5,
     "metadata": {},
     "output_type": "execute_result"
    }
   ],
   "source": [
    "# What percentage of beers scored 4 or above?\n",
    "len(merged_nb_df[(merged_nb_df[\"review_taste\"]>=4)]) / len(merged_nb_df) * 100"
   ]
  },
  {
   "cell_type": "code",
   "execution_count": 6,
   "metadata": {},
   "outputs": [],
   "source": [
    "# Since beers with a rating of four or above is the top 34% of beers, let's go with those as \"good\" beers.\n",
    "# We need a new category \"good beer\" with a 1 for good and 0 for bad\n",
    "merged_nb_df[\"good_beer\"]=0"
   ]
  },
  {
   "cell_type": "code",
   "execution_count": 7,
   "metadata": {},
   "outputs": [],
   "source": [
    "# for all the \"good beers\", put a 1 in the good_beer column\n",
    "merged_nb_df.loc[merged_nb_df[\"review_taste\"].abs()>=4, \"good_beer\"] = 1"
   ]
  },
  {
   "cell_type": "code",
   "execution_count": 8,
   "metadata": {},
   "outputs": [],
   "source": [
    "# Drop rows where IBU is listed as above 125\n",
    "merged_nb_df = merged_nb_df[merged_nb_df['ibu'] <=125]  \n",
    "\n",
    "# Drop rows where sugarscale = plato because there are only a few and the plato scale specific gravity values are off\n",
    "merged_nb_df = merged_nb_df[merged_nb_df[\"sugarscale_Plato\"] == 0]\n",
    "\n",
    "# Drop rows where specific gravity is greater than 5 \n",
    "# These don't make sense and are potential outliers or typos\n",
    "merged_nb_df = merged_nb_df[merged_nb_df[\"og\"] <=5]\n",
    "merged_nb_df = merged_nb_df[merged_nb_df[\"fg\"] <=5]"
   ]
  },
  {
   "cell_type": "code",
   "execution_count": 9,
   "metadata": {},
   "outputs": [],
   "source": [
    "# What if we drop some sparse columns and try to get better accuracy...\n",
    "merged_nb_df.drop(columns = [ \"size_l\", \"abv\", \"boilsize\",\"boiltime\", \"boilgravity\", \"efficiency\", \"mashthickness\", \"pitchrate\",\"primarytemp\",\"sugarscale_Plato\",\"sugarscale_Specific Gravity\"],inplace=True )"
   ]
  },
  {
   "cell_type": "code",
   "execution_count": 10,
   "metadata": {},
   "outputs": [],
   "source": [
    "beer_class = merged_nb_df.drop(columns = [\"review_taste\"])"
   ]
  },
  {
   "cell_type": "code",
   "execution_count": 11,
   "metadata": {},
   "outputs": [],
   "source": [
    "# Split our preprocessed data into our features and target arrays\n",
    "y = beer_class.good_beer.values\n",
    "X = beer_class.drop(columns = [\"good_beer\"]).values\n",
    "\n",
    "# Split the preprocessed data into a training and testing dataset\n",
    "X_train, X_test, y_train, y_test = train_test_split(X, y, random_state=5, stratify = y)\n"
   ]
  },
  {
   "cell_type": "code",
   "execution_count": 12,
   "metadata": {},
   "outputs": [],
   "source": [
    "# Create a StandardScaler instances\n",
    "scaler = StandardScaler()\n",
    "\n",
    "# Fit the StandardScaler\n",
    "X_scaler = scaler.fit(X_train)\n",
    "\n",
    "# Scale the data\n",
    "X_train_scaled = X_scaler.transform(X_train)\n",
    "X_test_scaled = X_scaler.transform(X_test)"
   ]
  },
  {
   "cell_type": "markdown",
   "metadata": {},
   "source": [
    "## Gradient Boosting Classifier"
   ]
  },
  {
   "cell_type": "code",
   "execution_count": 13,
   "metadata": {},
   "outputs": [],
   "source": [
    "import numpy as np\n",
    "from sklearn.metrics import classification_report\n",
    "from sklearn.model_selection import KFold\n",
    "from sklearn.datasets import load_breast_cancer\n",
    "from sklearn.ensemble import GradientBoostingClassifier"
   ]
  },
  {
   "cell_type": "code",
   "execution_count": 14,
   "metadata": {},
   "outputs": [
    {
     "data": {
      "text/plain": [
       "{'ccp_alpha': 0.0,\n",
       " 'criterion': 'friedman_mse',\n",
       " 'init': None,\n",
       " 'learning_rate': 0.1,\n",
       " 'loss': 'deviance',\n",
       " 'max_depth': 3,\n",
       " 'max_features': None,\n",
       " 'max_leaf_nodes': None,\n",
       " 'min_impurity_decrease': 0.0,\n",
       " 'min_impurity_split': None,\n",
       " 'min_samples_leaf': 1,\n",
       " 'min_samples_split': 2,\n",
       " 'min_weight_fraction_leaf': 0.0,\n",
       " 'n_estimators': 200,\n",
       " 'n_iter_no_change': None,\n",
       " 'random_state': None,\n",
       " 'subsample': 1.0,\n",
       " 'tol': 0.0001,\n",
       " 'validation_fraction': 0.1,\n",
       " 'verbose': 0,\n",
       " 'warm_start': False}"
      ]
     },
     "execution_count": 14,
     "metadata": {},
     "output_type": "execute_result"
    }
   ],
   "source": [
    "gradient_booster = GradientBoostingClassifier(learning_rate=0.1, n_estimators = 200)\n",
    "gradient_booster.get_params()"
   ]
  },
  {
   "cell_type": "code",
   "execution_count": 15,
   "metadata": {},
   "outputs": [
    {
     "name": "stdout",
     "output_type": "stream",
     "text": [
      "              precision    recall  f1-score   support\n",
      "\n",
      "           0       0.77      0.92      0.84      1717\n",
      "           1       0.77      0.50      0.60       921\n",
      "\n",
      "    accuracy                           0.77      2638\n",
      "   macro avg       0.77      0.71      0.72      2638\n",
      "weighted avg       0.77      0.77      0.76      2638\n",
      "\n"
     ]
    }
   ],
   "source": [
    "gradient_booster.fit(X_train_scaled, y_train)\n",
    "predictions = gradient_booster.predict(X_test_scaled)\n",
    "print(classification_report(y_test,predictions))"
   ]
  },
  {
   "cell_type": "code",
   "execution_count": 16,
   "metadata": {},
   "outputs": [
    {
     "name": "stdout",
     "output_type": "stream",
     "text": [
      "Accuracy Score : 0.7717968157695224\n"
     ]
    }
   ],
   "source": [
    "acc_score = accuracy_score(y_test, predictions)\n",
    "print(f\"Accuracy Score : {acc_score}\")"
   ]
  },
  {
   "cell_type": "code",
   "execution_count": 17,
   "metadata": {},
   "outputs": [],
   "source": [
    "# Save the model to use later\n",
    "import pickle\n",
    "filename = \"final_ML_model.pkl\"\n",
    "pickle.dump(gradient_booster, open(filename, 'wb'))"
   ]
  },
  {
   "cell_type": "code",
   "execution_count": 18,
   "metadata": {},
   "outputs": [],
   "source": [
    "filename2 = \"beer_scaler.pkl\"\n",
    "pickle.dump(scaler, open(filename2, 'wb'))"
   ]
  }
 ],
 "metadata": {
  "interpreter": {
   "hash": "6bbbf46ac35b3752c751a75b1a32432224dacc405cb55dd51db559f1ccadb36c"
  },
  "kernelspec": {
   "display_name": "Python 3.8.10 64-bit ('PyData': conda)",
   "name": "python3"
  },
  "language_info": {
   "codemirror_mode": {
    "name": "ipython",
    "version": 3
   },
   "file_extension": ".py",
   "mimetype": "text/x-python",
   "name": "python",
   "nbconvert_exporter": "python",
   "pygments_lexer": "ipython3",
   "version": "3.8.10"
  },
  "orig_nbformat": 4
 },
 "nbformat": 4,
 "nbformat_minor": 2
}
